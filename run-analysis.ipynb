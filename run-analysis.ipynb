{
 "cells": [
  {
   "cell_type": "code",
   "execution_count": 1,
   "id": "e4d9973b",
   "metadata": {},
   "outputs": [],
   "source": [
    "import numpy as np\n",
    "import pandas as pd"
   ]
  },
  {
   "cell_type": "code",
   "execution_count": 29,
   "id": "a5eac0d7",
   "metadata": {},
   "outputs": [],
   "source": [
    "df = pd.read_json(\"./runs.json\")"
   ]
  },
  {
   "cell_type": "code",
   "execution_count": 30,
   "id": "6f2785bc",
   "metadata": {},
   "outputs": [
    {
     "data": {
      "text/html": [
       "<div>\n",
       "<style scoped>\n",
       "    .dataframe tbody tr th:only-of-type {\n",
       "        vertical-align: middle;\n",
       "    }\n",
       "\n",
       "    .dataframe tbody tr th {\n",
       "        vertical-align: top;\n",
       "    }\n",
       "\n",
       "    .dataframe thead th {\n",
       "        text-align: right;\n",
       "    }\n",
       "</style>\n",
       "<table border=\"1\" class=\"dataframe\">\n",
       "  <thead>\n",
       "    <tr style=\"text-align: right;\">\n",
       "      <th></th>\n",
       "      <th>runId</th>\n",
       "      <th>date</th>\n",
       "      <th>duration</th>\n",
       "      <th>runKey</th>\n",
       "      <th>imageUrl</th>\n",
       "      <th>length</th>\n",
       "      <th>type</th>\n",
       "      <th>surface</th>\n",
       "      <th>pace</th>\n",
       "      <th>sleepHours</th>\n",
       "      <th>sleepToBedTime</th>\n",
       "      <th>sleepWakeTime</th>\n",
       "      <th>runListenedTo</th>\n",
       "      <th>temperature</th>\n",
       "      <th>shoeAge</th>\n",
       "      <th>startTime</th>\n",
       "    </tr>\n",
       "  </thead>\n",
       "  <tbody>\n",
       "    <tr>\n",
       "      <th>0</th>\n",
       "      <td>772</td>\n",
       "      <td>2021-03-14</td>\n",
       "      <td>00:35:55</td>\n",
       "      <td>NaN</td>\n",
       "      <td>None</td>\n",
       "      <td>5.20</td>\n",
       "      <td>outdoor</td>\n",
       "      <td>street</td>\n",
       "      <td>00:06:54.4230769</td>\n",
       "      <td>8.0</td>\n",
       "      <td>2021-03-14T00:00:00</td>\n",
       "      <td>2021-03-14T08:00:00</td>\n",
       "      <td>podcast - history</td>\n",
       "      <td>60.0</td>\n",
       "      <td>32</td>\n",
       "      <td>2021-03-14T14:00:00</td>\n",
       "    </tr>\n",
       "    <tr>\n",
       "      <th>1</th>\n",
       "      <td>775</td>\n",
       "      <td>2021-03-17</td>\n",
       "      <td>00:35:35</td>\n",
       "      <td>NaN</td>\n",
       "      <td>None</td>\n",
       "      <td>5.28</td>\n",
       "      <td>outdoor</td>\n",
       "      <td>street</td>\n",
       "      <td>00:06:44.3560606</td>\n",
       "      <td>7.0</td>\n",
       "      <td>2021-03-17T23:00:00</td>\n",
       "      <td>2021-03-17T06:00:00</td>\n",
       "      <td>podcast - web development</td>\n",
       "      <td>60.0</td>\n",
       "      <td>35</td>\n",
       "      <td>2021-03-17T16:00:00</td>\n",
       "    </tr>\n",
       "    <tr>\n",
       "      <th>2</th>\n",
       "      <td>780</td>\n",
       "      <td>2021-03-22</td>\n",
       "      <td>00:31:10</td>\n",
       "      <td>NaN</td>\n",
       "      <td>None</td>\n",
       "      <td>4.64</td>\n",
       "      <td>outdoor</td>\n",
       "      <td>street</td>\n",
       "      <td>00:06:43.0172414</td>\n",
       "      <td>7.0</td>\n",
       "      <td>2021-03-22T23:00:00</td>\n",
       "      <td>2021-03-22T06:00:00</td>\n",
       "      <td>podcast- history</td>\n",
       "      <td>60.0</td>\n",
       "      <td>1</td>\n",
       "      <td>2021-03-22T16:30:00</td>\n",
       "    </tr>\n",
       "    <tr>\n",
       "      <th>3</th>\n",
       "      <td>782</td>\n",
       "      <td>2021-03-24</td>\n",
       "      <td>00:25:53</td>\n",
       "      <td>NaN</td>\n",
       "      <td>None</td>\n",
       "      <td>3.69</td>\n",
       "      <td>outdoor</td>\n",
       "      <td>street</td>\n",
       "      <td>00:07:00.8672087</td>\n",
       "      <td>8.0</td>\n",
       "      <td>2021-03-24T22:00:00</td>\n",
       "      <td>2021-03-24T06:00:00</td>\n",
       "      <td>podcast - web development</td>\n",
       "      <td>60.0</td>\n",
       "      <td>2</td>\n",
       "      <td>2021-03-24T15:30:00</td>\n",
       "    </tr>\n",
       "    <tr>\n",
       "      <th>4</th>\n",
       "      <td>785</td>\n",
       "      <td>2021-03-27</td>\n",
       "      <td>00:40:04</td>\n",
       "      <td>NaN</td>\n",
       "      <td>None</td>\n",
       "      <td>5.97</td>\n",
       "      <td>outdoor</td>\n",
       "      <td>street</td>\n",
       "      <td>00:06:42.6800670</td>\n",
       "      <td>9.0</td>\n",
       "      <td>2021-03-27T23:00:00</td>\n",
       "      <td>2021-03-27T08:00:00</td>\n",
       "      <td>music - rock</td>\n",
       "      <td>65.0</td>\n",
       "      <td>4</td>\n",
       "      <td>2021-03-27T10:30:00</td>\n",
       "    </tr>\n",
       "    <tr>\n",
       "      <th>...</th>\n",
       "      <td>...</td>\n",
       "      <td>...</td>\n",
       "      <td>...</td>\n",
       "      <td>...</td>\n",
       "      <td>...</td>\n",
       "      <td>...</td>\n",
       "      <td>...</td>\n",
       "      <td>...</td>\n",
       "      <td>...</td>\n",
       "      <td>...</td>\n",
       "      <td>...</td>\n",
       "      <td>...</td>\n",
       "      <td>...</td>\n",
       "      <td>...</td>\n",
       "      <td>...</td>\n",
       "      <td>...</td>\n",
       "    </tr>\n",
       "    <tr>\n",
       "      <th>1261</th>\n",
       "      <td>1028</td>\n",
       "      <td>2021-12-08</td>\n",
       "      <td>00:24:03</td>\n",
       "      <td>NaN</td>\n",
       "      <td>None</td>\n",
       "      <td>3.48</td>\n",
       "      <td>outdoor</td>\n",
       "      <td>street</td>\n",
       "      <td>00:06:54.6551724</td>\n",
       "      <td>7.0</td>\n",
       "      <td>2021-12-08T22:00:00</td>\n",
       "      <td>2021-12-08T05:00:00</td>\n",
       "      <td>podcast - history</td>\n",
       "      <td>60.0</td>\n",
       "      <td>4</td>\n",
       "      <td>2021-12-08T15:30:00</td>\n",
       "    </tr>\n",
       "    <tr>\n",
       "      <th>1262</th>\n",
       "      <td>1038</td>\n",
       "      <td>2022-01-11</td>\n",
       "      <td>00:21:46</td>\n",
       "      <td>NaN</td>\n",
       "      <td>None</td>\n",
       "      <td>3.16</td>\n",
       "      <td>outdoor</td>\n",
       "      <td>street</td>\n",
       "      <td>00:06:53.2911392</td>\n",
       "      <td>6.0</td>\n",
       "      <td>2022-01-11T23:00:00</td>\n",
       "      <td>2022-01-11T05:00:00</td>\n",
       "      <td>podcast - history</td>\n",
       "      <td>70.0</td>\n",
       "      <td>14</td>\n",
       "      <td>2022-01-11T12:30:00</td>\n",
       "    </tr>\n",
       "    <tr>\n",
       "      <th>1263</th>\n",
       "      <td>1040</td>\n",
       "      <td>2022-01-13</td>\n",
       "      <td>00:23:47</td>\n",
       "      <td>NaN</td>\n",
       "      <td>None</td>\n",
       "      <td>3.49</td>\n",
       "      <td>outdoor</td>\n",
       "      <td>street</td>\n",
       "      <td>00:06:48.8825215</td>\n",
       "      <td>8.0</td>\n",
       "      <td>2022-01-13T22:00:00</td>\n",
       "      <td>2022-01-13T04:00:00</td>\n",
       "      <td>podcast - history</td>\n",
       "      <td>60.0</td>\n",
       "      <td>15</td>\n",
       "      <td>2022-01-13T16:30:00</td>\n",
       "    </tr>\n",
       "    <tr>\n",
       "      <th>1264</th>\n",
       "      <td>1062</td>\n",
       "      <td>2022-02-04</td>\n",
       "      <td>00:23:52</td>\n",
       "      <td>NaN</td>\n",
       "      <td>None</td>\n",
       "      <td>3.52</td>\n",
       "      <td>outdoor</td>\n",
       "      <td>street</td>\n",
       "      <td>00:06:46.8181818</td>\n",
       "      <td>7.0</td>\n",
       "      <td>2022-02-04T23:00:00</td>\n",
       "      <td>2022-02-04T06:00:00</td>\n",
       "      <td>podcast - basketball</td>\n",
       "      <td>60.0</td>\n",
       "      <td>23</td>\n",
       "      <td>2022-02-04T16:00:00</td>\n",
       "    </tr>\n",
       "    <tr>\n",
       "      <th>1265</th>\n",
       "      <td>1070</td>\n",
       "      <td>2022-02-12</td>\n",
       "      <td>00:23:03</td>\n",
       "      <td>NaN</td>\n",
       "      <td>None</td>\n",
       "      <td>3.29</td>\n",
       "      <td>outdoor</td>\n",
       "      <td>street</td>\n",
       "      <td>00:07:00.3647416</td>\n",
       "      <td>7.0</td>\n",
       "      <td>2022-02-12T23:00:00</td>\n",
       "      <td>2022-02-12T06:00:00</td>\n",
       "      <td>music - rock</td>\n",
       "      <td>65.0</td>\n",
       "      <td>27</td>\n",
       "      <td>2022-02-12T08:00:00</td>\n",
       "    </tr>\n",
       "  </tbody>\n",
       "</table>\n",
       "<p>1266 rows × 16 columns</p>\n",
       "</div>"
      ],
      "text/plain": [
       "      runId       date  duration  runKey imageUrl  length     type surface  \\\n",
       "0       772 2021-03-14  00:35:55     NaN     None    5.20  outdoor  street   \n",
       "1       775 2021-03-17  00:35:35     NaN     None    5.28  outdoor  street   \n",
       "2       780 2021-03-22  00:31:10     NaN     None    4.64  outdoor  street   \n",
       "3       782 2021-03-24  00:25:53     NaN     None    3.69  outdoor  street   \n",
       "4       785 2021-03-27  00:40:04     NaN     None    5.97  outdoor  street   \n",
       "...     ...        ...       ...     ...      ...     ...      ...     ...   \n",
       "1261   1028 2021-12-08  00:24:03     NaN     None    3.48  outdoor  street   \n",
       "1262   1038 2022-01-11  00:21:46     NaN     None    3.16  outdoor  street   \n",
       "1263   1040 2022-01-13  00:23:47     NaN     None    3.49  outdoor  street   \n",
       "1264   1062 2022-02-04  00:23:52     NaN     None    3.52  outdoor  street   \n",
       "1265   1070 2022-02-12  00:23:03     NaN     None    3.29  outdoor  street   \n",
       "\n",
       "                  pace  sleepHours       sleepToBedTime        sleepWakeTime  \\\n",
       "0     00:06:54.4230769         8.0  2021-03-14T00:00:00  2021-03-14T08:00:00   \n",
       "1     00:06:44.3560606         7.0  2021-03-17T23:00:00  2021-03-17T06:00:00   \n",
       "2     00:06:43.0172414         7.0  2021-03-22T23:00:00  2021-03-22T06:00:00   \n",
       "3     00:07:00.8672087         8.0  2021-03-24T22:00:00  2021-03-24T06:00:00   \n",
       "4     00:06:42.6800670         9.0  2021-03-27T23:00:00  2021-03-27T08:00:00   \n",
       "...                ...         ...                  ...                  ...   \n",
       "1261  00:06:54.6551724         7.0  2021-12-08T22:00:00  2021-12-08T05:00:00   \n",
       "1262  00:06:53.2911392         6.0  2022-01-11T23:00:00  2022-01-11T05:00:00   \n",
       "1263  00:06:48.8825215         8.0  2022-01-13T22:00:00  2022-01-13T04:00:00   \n",
       "1264  00:06:46.8181818         7.0  2022-02-04T23:00:00  2022-02-04T06:00:00   \n",
       "1265  00:07:00.3647416         7.0  2022-02-12T23:00:00  2022-02-12T06:00:00   \n",
       "\n",
       "                   runListenedTo  temperature  shoeAge            startTime  \n",
       "0              podcast - history         60.0       32  2021-03-14T14:00:00  \n",
       "1      podcast - web development         60.0       35  2021-03-17T16:00:00  \n",
       "2               podcast- history         60.0        1  2021-03-22T16:30:00  \n",
       "3     podcast - web development          60.0        2  2021-03-24T15:30:00  \n",
       "4                   music - rock         65.0        4  2021-03-27T10:30:00  \n",
       "...                          ...          ...      ...                  ...  \n",
       "1261           podcast - history         60.0        4  2021-12-08T15:30:00  \n",
       "1262           podcast - history         70.0       14  2022-01-11T12:30:00  \n",
       "1263           podcast - history         60.0       15  2022-01-13T16:30:00  \n",
       "1264        podcast - basketball         60.0       23  2022-02-04T16:00:00  \n",
       "1265                music - rock         65.0       27  2022-02-12T08:00:00  \n",
       "\n",
       "[1266 rows x 16 columns]"
      ]
     },
     "execution_count": 30,
     "metadata": {},
     "output_type": "execute_result"
    }
   ],
   "source": [
    "df"
   ]
  },
  {
   "cell_type": "code",
   "execution_count": 83,
   "id": "ffb513da",
   "metadata": {},
   "outputs": [],
   "source": [
    "runDates = df['date']"
   ]
  },
  {
   "cell_type": "code",
   "execution_count": 84,
   "id": "8f702d01",
   "metadata": {},
   "outputs": [
    {
     "data": {
      "text/plain": [
       "0      2021-03-14\n",
       "1      2021-03-17\n",
       "2      2021-03-22\n",
       "3      2021-03-24\n",
       "4      2021-03-27\n",
       "          ...    \n",
       "1261   2021-12-08\n",
       "1262   2022-01-11\n",
       "1263   2022-01-13\n",
       "1264   2022-02-04\n",
       "1265   2022-02-12\n",
       "Name: date, Length: 1266, dtype: datetime64[ns]"
      ]
     },
     "execution_count": 84,
     "metadata": {},
     "output_type": "execute_result"
    }
   ],
   "source": [
    "runDates"
   ]
  },
  {
   "cell_type": "code",
   "execution_count": 87,
   "id": "ccac7caa",
   "metadata": {},
   "outputs": [
    {
     "data": {
      "text/plain": [
       "0"
      ]
     },
     "execution_count": 87,
     "metadata": {},
     "output_type": "execute_result"
    }
   ],
   "source": [
    "runDates[2].weekday()"
   ]
  },
  {
   "cell_type": "code",
   "execution_count": 37,
   "id": "cb83dec9",
   "metadata": {},
   "outputs": [],
   "source": [
    "weekDays = []\n",
    "\n",
    "for i, v in runDates.items():\n",
    "    weekDays.append(runDates[i].weekday())"
   ]
  },
  {
   "cell_type": "code",
   "execution_count": 48,
   "id": "98a9fd56",
   "metadata": {},
   "outputs": [],
   "source": [
    "monday = 0\n",
    "tuesday = 0\n",
    "wednesday = 0\n",
    "thursday = 0\n",
    "friday = 0\n",
    "saturday = 0\n",
    "sunday = 0\n",
    "\n",
    "for day in weekDays:\n",
    "    if day == 0:\n",
    "        monday+= 1\n",
    "    if day == 1:\n",
    "        tuesday+= 1\n",
    "    if day == 2:\n",
    "        wednesday+= 1\n",
    "    if day == 3:\n",
    "        thursday+= 1\n",
    "    if day == 4:\n",
    "        friday+= 1\n",
    "    if day == 5:\n",
    "        saturday+= 1\n",
    "    if day == 6:\n",
    "        sunday+= 1\n",
    "\n",
    "        "
   ]
  },
  {
   "cell_type": "code",
   "execution_count": 55,
   "id": "aa727660",
   "metadata": {},
   "outputs": [],
   "source": [
    "dayCounts = [monday, tuesday, wednesday, thursday, friday, saturday, sunday]\n",
    "dayLabels = [\"monday\", \"tuesday\", \"wednesday\", \"thursday\", \"friday\", \"saturday\", \"sunday\"]\n",
    "daySeries = pd.Series(dayCounts, dayLabels)"
   ]
  },
  {
   "cell_type": "code",
   "execution_count": 56,
   "id": "10409448",
   "metadata": {},
   "outputs": [
    {
     "data": {
      "text/plain": [
       "<AxesSubplot:>"
      ]
     },
     "execution_count": 56,
     "metadata": {},
     "output_type": "execute_result"
    },
    {
     "data": {
      "image/png": "[encoded data removed]",
      "text/plain": [
       "<Figure size 432x288 with 1 Axes>"
      ]
     },
     "metadata": {
      "needs_background": "light"
     },
     "output_type": "display_data"
    }
   ],
   "source": [
    "daySeries.plot.bar()"
   ]
  },
  {
   "cell_type": "code",
   "execution_count": 57,
   "id": "f16ccec6",
   "metadata": {},
   "outputs": [
    {
     "data": {
      "text/plain": [
       "<AxesSubplot:>"
      ]
     },
     "execution_count": 57,
     "metadata": {},
     "output_type": "execute_result"
    },
    {
     "data": {
      "image/png": "[encoded data removed]",
      "text/plain": [
       "<Figure size 432x288 with 1 Axes>"
      ]
     },
     "metadata": {
      "needs_background": "light"
     },
     "output_type": "display_data"
    }
   ],
   "source": [
    "daySeries.plot.line()"
   ]
  },
  {
   "cell_type": "code",
   "execution_count": 89,
   "id": "20da8bc5",
   "metadata": {},
   "outputs": [
    {
     "data": {
      "text/plain": [
       "1266"
      ]
     },
     "execution_count": 89,
     "metadata": {},
     "output_type": "execute_result"
    }
   ],
   "source": [
    "len(runDates)"
   ]
  },
  {
   "cell_type": "code",
   "execution_count": 58,
   "id": "99311ff4",
   "metadata": {},
   "outputs": [],
   "source": [
    "df1 = df[['date', 'length']]"
   ]
  },
  {
   "cell_type": "code",
   "execution_count": 59,
   "id": "a14f5d41",
   "metadata": {},
   "outputs": [
    {
     "data": {
      "text/html": [
       "<div>\n",
       "<style scoped>\n",
       "    .dataframe tbody tr th:only-of-type {\n",
       "        vertical-align: middle;\n",
       "    }\n",
       "\n",
       "    .dataframe tbody tr th {\n",
       "        vertical-align: top;\n",
       "    }\n",
       "\n",
       "    .dataframe thead th {\n",
       "        text-align: right;\n",
       "    }\n",
       "</style>\n",
       "<table border=\"1\" class=\"dataframe\">\n",
       "  <thead>\n",
       "    <tr style=\"text-align: right;\">\n",
       "      <th></th>\n",
       "      <th>date</th>\n",
       "      <th>length</th>\n",
       "    </tr>\n",
       "  </thead>\n",
       "  <tbody>\n",
       "    <tr>\n",
       "      <th>0</th>\n",
       "      <td>2021-03-14</td>\n",
       "      <td>5.20</td>\n",
       "    </tr>\n",
       "    <tr>\n",
       "      <th>1</th>\n",
       "      <td>2021-03-17</td>\n",
       "      <td>5.28</td>\n",
       "    </tr>\n",
       "    <tr>\n",
       "      <th>2</th>\n",
       "      <td>2021-03-22</td>\n",
       "      <td>4.64</td>\n",
       "    </tr>\n",
       "    <tr>\n",
       "      <th>3</th>\n",
       "      <td>2021-03-24</td>\n",
       "      <td>3.69</td>\n",
       "    </tr>\n",
       "    <tr>\n",
       "      <th>4</th>\n",
       "      <td>2021-03-27</td>\n",
       "      <td>5.97</td>\n",
       "    </tr>\n",
       "    <tr>\n",
       "      <th>...</th>\n",
       "      <td>...</td>\n",
       "      <td>...</td>\n",
       "    </tr>\n",
       "    <tr>\n",
       "      <th>1261</th>\n",
       "      <td>2021-12-08</td>\n",
       "      <td>3.48</td>\n",
       "    </tr>\n",
       "    <tr>\n",
       "      <th>1262</th>\n",
       "      <td>2022-01-11</td>\n",
       "      <td>3.16</td>\n",
       "    </tr>\n",
       "    <tr>\n",
       "      <th>1263</th>\n",
       "      <td>2022-01-13</td>\n",
       "      <td>3.49</td>\n",
       "    </tr>\n",
       "    <tr>\n",
       "      <th>1264</th>\n",
       "      <td>2022-02-04</td>\n",
       "      <td>3.52</td>\n",
       "    </tr>\n",
       "    <tr>\n",
       "      <th>1265</th>\n",
       "      <td>2022-02-12</td>\n",
       "      <td>3.29</td>\n",
       "    </tr>\n",
       "  </tbody>\n",
       "</table>\n",
       "<p>1266 rows × 2 columns</p>\n",
       "</div>"
      ],
      "text/plain": [
       "           date  length\n",
       "0    2021-03-14    5.20\n",
       "1    2021-03-17    5.28\n",
       "2    2021-03-22    4.64\n",
       "3    2021-03-24    3.69\n",
       "4    2021-03-27    5.97\n",
       "...         ...     ...\n",
       "1261 2021-12-08    3.48\n",
       "1262 2022-01-11    3.16\n",
       "1263 2022-01-13    3.49\n",
       "1264 2022-02-04    3.52\n",
       "1265 2022-02-12    3.29\n",
       "\n",
       "[1266 rows x 2 columns]"
      ]
     },
     "execution_count": 59,
     "metadata": {},
     "output_type": "execute_result"
    }
   ],
   "source": [
    "df1"
   ]
  },
  {
   "cell_type": "code",
   "execution_count": null,
   "id": "ba708b0f",
   "metadata": {},
   "outputs": [],
   "source": []
  }
 ],
 "metadata": {
  "kernelspec": {
   "display_name": "Python 3 (ipykernel)",
   "language": "python",
   "name": "python3"
  },
  "language_info": {
   "codemirror_mode": {
    "name": "ipython",
    "version": 3
   },
   "file_extension": ".py",
   "mimetype": "text/x-python",
   "name": "python",
   "nbconvert_exporter": "python",
   "pygments_lexer": "ipython3",
   "version": "3.9.12"
  }
 },
 "nbformat": 4,
 "nbformat_minor": 5
}
