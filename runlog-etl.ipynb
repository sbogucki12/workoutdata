{
 "cells": [
  {
   "cell_type": "code",
   "execution_count": 15,
   "id": "f37977c5",
   "metadata": {},
   "outputs": [],
   "source": [
    "import pandas as pd"
   ]
  },
  {
   "cell_type": "code",
   "execution_count": 16,
   "id": "0e7c2ed3",
   "metadata": {},
   "outputs": [],
   "source": [
    "df = pd.read_json(r'C:\\Users\\sbogu\\Documents\\Repos\\workout_data\\runlog11262022.json')"
   ]
  },
  {
   "cell_type": "code",
   "execution_count": 17,
   "id": "21ae9de5",
   "metadata": {},
   "outputs": [],
   "source": [
    "import numpy as np"
   ]
  },
  {
   "cell_type": "code",
   "execution_count": 18,
   "id": "d402b985",
   "metadata": {},
   "outputs": [],
   "source": [
    "pace = df['pace']\n"
   ]
  },
  {
   "cell_type": "code",
   "execution_count": 19,
   "id": "00b7e42c",
   "metadata": {},
   "outputs": [
    {
     "data": {
      "text/plain": [
       "0       00:06:54.4230769\n",
       "1       00:06:44.3560606\n",
       "2       00:06:43.0172414\n",
       "3       00:07:00.8672087\n",
       "4       00:06:42.6800670\n",
       "              ...       \n",
       "1257    00:06:54.6551724\n",
       "1258    00:06:53.2911392\n",
       "1259    00:06:48.8825215\n",
       "1260    00:06:46.8181818\n",
       "1261    00:07:00.3647416\n",
       "Name: pace, Length: 1262, dtype: object"
      ]
     },
     "execution_count": 19,
     "metadata": {},
     "output_type": "execute_result"
    }
   ],
   "source": [
    "pace"
   ]
  },
  {
   "cell_type": "code",
   "execution_count": 20,
   "id": "dbe4b77a",
   "metadata": {},
   "outputs": [
    {
     "data": {
      "text/plain": [
       "pandas.core.series.Series"
      ]
     },
     "execution_count": 20,
     "metadata": {},
     "output_type": "execute_result"
    }
   ],
   "source": [
    "type(pace)"
   ]
  },
  {
   "cell_type": "code",
   "execution_count": 21,
   "id": "ccc62f06",
   "metadata": {},
   "outputs": [
    {
     "data": {
      "text/plain": [
       "str"
      ]
     },
     "execution_count": 21,
     "metadata": {},
     "output_type": "execute_result"
    }
   ],
   "source": [
    "type(pace[0])"
   ]
  },
  {
   "cell_type": "code",
   "execution_count": null,
   "id": "e93abf74",
   "metadata": {},
   "outputs": [],
   "source": []
  }
 ],
 "metadata": {
  "kernelspec": {
   "display_name": "Python 3 (ipykernel)",
   "language": "python",
   "name": "python3"
  },
  "language_info": {
   "codemirror_mode": {
    "name": "ipython",
    "version": 3
   },
   "file_extension": ".py",
   "mimetype": "text/x-python",
   "name": "python",
   "nbconvert_exporter": "python",
   "pygments_lexer": "ipython3",
   "version": "3.9.12"
  }
 },
 "nbformat": 4,
 "nbformat_minor": 5
}
